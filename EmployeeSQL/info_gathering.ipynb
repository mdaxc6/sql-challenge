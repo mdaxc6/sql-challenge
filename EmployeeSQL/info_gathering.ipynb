{
 "metadata": {
  "language_info": {
   "codemirror_mode": {
    "name": "ipython",
    "version": 3
   },
   "file_extension": ".py",
   "mimetype": "text/x-python",
   "name": "python",
   "nbconvert_exporter": "python",
   "pygments_lexer": "ipython3",
   "version": "3.6.10-final"
  },
  "orig_nbformat": 2,
  "kernelspec": {
   "name": "python3610jvsc74a57bd04d1346429681e2901940cfbc6d3aa8e0961654b88e69dffdbf3524e675148f21",
   "display_name": "Python 3.6.10 64-bit ('DataBootCamp': conda)"
  }
 },
 "nbformat": 4,
 "nbformat_minor": 2,
 "cells": [
  {
   "cell_type": "code",
   "execution_count": 1,
   "metadata": {},
   "outputs": [],
   "source": [
    "import pandas as pd"
   ]
  },
  {
   "cell_type": "code",
   "execution_count": 2,
   "metadata": {},
   "outputs": [],
   "source": [
    "departments = pd.read_csv('data/departments.csv')\n",
    "dept_emp = pd.read_csv('data/dept_emp.csv')\n",
    "dept_manager = pd.read_csv('data/dept_manager.csv')\n",
    "employees = pd.read_csv('data/employees.csv')\n",
    "salaries = pd.read_csv('data/salaries.csv')\n",
    "titles = pd.read_csv('data/titles.csv')"
   ]
  },
  {
   "source": [
    "# departments"
   ],
   "cell_type": "markdown",
   "metadata": {}
  },
  {
   "cell_type": "code",
   "execution_count": 3,
   "metadata": {},
   "outputs": [
    {
     "output_type": "execute_result",
     "data": {
      "text/plain": [
       "  dept_no        dept_name\n",
       "0    d001        Marketing\n",
       "1    d002          Finance\n",
       "2    d003  Human Resources\n",
       "3    d004       Production\n",
       "4    d005      Development"
      ],
      "text/html": "<div>\n<style scoped>\n    .dataframe tbody tr th:only-of-type {\n        vertical-align: middle;\n    }\n\n    .dataframe tbody tr th {\n        vertical-align: top;\n    }\n\n    .dataframe thead th {\n        text-align: right;\n    }\n</style>\n<table border=\"1\" class=\"dataframe\">\n  <thead>\n    <tr style=\"text-align: right;\">\n      <th></th>\n      <th>dept_no</th>\n      <th>dept_name</th>\n    </tr>\n  </thead>\n  <tbody>\n    <tr>\n      <th>0</th>\n      <td>d001</td>\n      <td>Marketing</td>\n    </tr>\n    <tr>\n      <th>1</th>\n      <td>d002</td>\n      <td>Finance</td>\n    </tr>\n    <tr>\n      <th>2</th>\n      <td>d003</td>\n      <td>Human Resources</td>\n    </tr>\n    <tr>\n      <th>3</th>\n      <td>d004</td>\n      <td>Production</td>\n    </tr>\n    <tr>\n      <th>4</th>\n      <td>d005</td>\n      <td>Development</td>\n    </tr>\n  </tbody>\n</table>\n</div>"
     },
     "metadata": {},
     "execution_count": 3
    }
   ],
   "source": [
    "departments.head()"
   ]
  },
  {
   "cell_type": "code",
   "execution_count": 4,
   "metadata": {},
   "outputs": [
    {
     "output_type": "stream",
     "name": "stdout",
     "text": [
      "<class 'pandas.core.frame.DataFrame'>\nRangeIndex: 9 entries, 0 to 8\nData columns (total 2 columns):\n #   Column     Non-Null Count  Dtype \n---  ------     --------------  ----- \n 0   dept_no    9 non-null      object\n 1   dept_name  9 non-null      object\ndtypes: object(2)\nmemory usage: 272.0+ bytes\n"
     ]
    }
   ],
   "source": [
    "departments.info()"
   ]
  },
  {
   "source": [
    " # dept_emp"
   ],
   "cell_type": "markdown",
   "metadata": {}
  },
  {
   "cell_type": "code",
   "execution_count": 6,
   "metadata": {},
   "outputs": [
    {
     "output_type": "execute_result",
     "data": {
      "text/plain": [
       "331603"
      ]
     },
     "metadata": {},
     "execution_count": 6
    }
   ],
   "source": [
    "dept_emp.head()\n",
    "len(dept_emp)"
   ]
  },
  {
   "cell_type": "code",
   "execution_count": 7,
   "metadata": {},
   "outputs": [
    {
     "output_type": "stream",
     "name": "stdout",
     "text": [
      "<class 'pandas.core.frame.DataFrame'>\nRangeIndex: 331603 entries, 0 to 331602\nData columns (total 2 columns):\n #   Column   Non-Null Count   Dtype \n---  ------   --------------   ----- \n 0   emp_no   331603 non-null  int64 \n 1   dept_no  331603 non-null  object\ndtypes: int64(1), object(1)\nmemory usage: 5.1+ MB\n"
     ]
    }
   ],
   "source": [
    "dept_emp.info()"
   ]
  },
  {
   "source": [
    "# dept_manager"
   ],
   "cell_type": "markdown",
   "metadata": {}
  },
  {
   "cell_type": "code",
   "execution_count": 7,
   "metadata": {},
   "outputs": [
    {
     "output_type": "execute_result",
     "data": {
      "text/plain": [
       "24"
      ]
     },
     "metadata": {},
     "execution_count": 7
    }
   ],
   "source": [
    "dept_manager.head()\n",
    "len(dept_manager)"
   ]
  },
  {
   "cell_type": "code",
   "execution_count": 9,
   "metadata": {},
   "outputs": [
    {
     "output_type": "stream",
     "name": "stdout",
     "text": [
      "<class 'pandas.core.frame.DataFrame'>\nRangeIndex: 24 entries, 0 to 23\nData columns (total 2 columns):\n #   Column   Non-Null Count  Dtype \n---  ------   --------------  ----- \n 0   dept_no  24 non-null     object\n 1   emp_no   24 non-null     int64 \ndtypes: int64(1), object(1)\nmemory usage: 512.0+ bytes\n"
     ]
    }
   ],
   "source": [
    "dept_manager.info()"
   ]
  },
  {
   "source": [
    "# employees"
   ],
   "cell_type": "markdown",
   "metadata": {}
  },
  {
   "cell_type": "code",
   "execution_count": 5,
   "metadata": {},
   "outputs": [
    {
     "output_type": "execute_result",
     "data": {
      "text/plain": [
       "300024"
      ]
     },
     "metadata": {},
     "execution_count": 5
    }
   ],
   "source": [
    "employees.head()\n",
    "len(employees)"
   ]
  },
  {
   "cell_type": "code",
   "execution_count": 11,
   "metadata": {},
   "outputs": [
    {
     "output_type": "stream",
     "name": "stdout",
     "text": [
      "<class 'pandas.core.frame.DataFrame'>\nRangeIndex: 300024 entries, 0 to 300023\nData columns (total 7 columns):\n #   Column        Non-Null Count   Dtype \n---  ------        --------------   ----- \n 0   emp_no        300024 non-null  int64 \n 1   emp_title_id  300024 non-null  object\n 2   birth_date    300024 non-null  object\n 3   first_name    300024 non-null  object\n 4   last_name     300024 non-null  object\n 5   sex           300024 non-null  object\n 6   hire_date     300024 non-null  object\ndtypes: int64(1), object(6)\nmemory usage: 16.0+ MB\n"
     ]
    }
   ],
   "source": [
    "employees.info()"
   ]
  },
  {
   "source": [
    "# salaries"
   ],
   "cell_type": "markdown",
   "metadata": {}
  },
  {
   "cell_type": "code",
   "execution_count": 12,
   "metadata": {},
   "outputs": [
    {
     "output_type": "execute_result",
     "data": {
      "text/plain": [
       "   emp_no  salary\n",
       "0   10001   60117\n",
       "1   10002   65828\n",
       "2   10003   40006\n",
       "3   10004   40054\n",
       "4   10005   78228"
      ],
      "text/html": "<div>\n<style scoped>\n    .dataframe tbody tr th:only-of-type {\n        vertical-align: middle;\n    }\n\n    .dataframe tbody tr th {\n        vertical-align: top;\n    }\n\n    .dataframe thead th {\n        text-align: right;\n    }\n</style>\n<table border=\"1\" class=\"dataframe\">\n  <thead>\n    <tr style=\"text-align: right;\">\n      <th></th>\n      <th>emp_no</th>\n      <th>salary</th>\n    </tr>\n  </thead>\n  <tbody>\n    <tr>\n      <th>0</th>\n      <td>10001</td>\n      <td>60117</td>\n    </tr>\n    <tr>\n      <th>1</th>\n      <td>10002</td>\n      <td>65828</td>\n    </tr>\n    <tr>\n      <th>2</th>\n      <td>10003</td>\n      <td>40006</td>\n    </tr>\n    <tr>\n      <th>3</th>\n      <td>10004</td>\n      <td>40054</td>\n    </tr>\n    <tr>\n      <th>4</th>\n      <td>10005</td>\n      <td>78228</td>\n    </tr>\n  </tbody>\n</table>\n</div>"
     },
     "metadata": {},
     "execution_count": 12
    }
   ],
   "source": [
    "salaries.head()"
   ]
  },
  {
   "cell_type": "code",
   "execution_count": 13,
   "metadata": {},
   "outputs": [
    {
     "output_type": "stream",
     "name": "stdout",
     "text": [
      "<class 'pandas.core.frame.DataFrame'>\nRangeIndex: 300024 entries, 0 to 300023\nData columns (total 2 columns):\n #   Column  Non-Null Count   Dtype\n---  ------  --------------   -----\n 0   emp_no  300024 non-null  int64\n 1   salary  300024 non-null  int64\ndtypes: int64(2)\nmemory usage: 4.6 MB\n"
     ]
    }
   ],
   "source": [
    "salaries.info()"
   ]
  },
  {
   "source": [
    "# titles"
   ],
   "cell_type": "markdown",
   "metadata": {}
  },
  {
   "cell_type": "code",
   "execution_count": 14,
   "metadata": {},
   "outputs": [
    {
     "output_type": "execute_result",
     "data": {
      "text/plain": [
       "  title_id               title\n",
       "0    s0001               Staff\n",
       "1    s0002        Senior Staff\n",
       "2    e0001  Assistant Engineer\n",
       "3    e0002            Engineer\n",
       "4    e0003     Senior Engineer"
      ],
      "text/html": "<div>\n<style scoped>\n    .dataframe tbody tr th:only-of-type {\n        vertical-align: middle;\n    }\n\n    .dataframe tbody tr th {\n        vertical-align: top;\n    }\n\n    .dataframe thead th {\n        text-align: right;\n    }\n</style>\n<table border=\"1\" class=\"dataframe\">\n  <thead>\n    <tr style=\"text-align: right;\">\n      <th></th>\n      <th>title_id</th>\n      <th>title</th>\n    </tr>\n  </thead>\n  <tbody>\n    <tr>\n      <th>0</th>\n      <td>s0001</td>\n      <td>Staff</td>\n    </tr>\n    <tr>\n      <th>1</th>\n      <td>s0002</td>\n      <td>Senior Staff</td>\n    </tr>\n    <tr>\n      <th>2</th>\n      <td>e0001</td>\n      <td>Assistant Engineer</td>\n    </tr>\n    <tr>\n      <th>3</th>\n      <td>e0002</td>\n      <td>Engineer</td>\n    </tr>\n    <tr>\n      <th>4</th>\n      <td>e0003</td>\n      <td>Senior Engineer</td>\n    </tr>\n  </tbody>\n</table>\n</div>"
     },
     "metadata": {},
     "execution_count": 14
    }
   ],
   "source": [
    "titles.head()"
   ]
  },
  {
   "cell_type": "code",
   "execution_count": 15,
   "metadata": {},
   "outputs": [
    {
     "output_type": "stream",
     "name": "stdout",
     "text": [
      "<class 'pandas.core.frame.DataFrame'>\nRangeIndex: 7 entries, 0 to 6\nData columns (total 2 columns):\n #   Column    Non-Null Count  Dtype \n---  ------    --------------  ----- \n 0   title_id  7 non-null      object\n 1   title     7 non-null      object\ndtypes: object(2)\nmemory usage: 240.0+ bytes\n"
     ]
    }
   ],
   "source": [
    "titles.info()"
   ]
  },
  {
   "cell_type": "code",
   "execution_count": null,
   "metadata": {},
   "outputs": [],
   "source": []
  }
 ]
}